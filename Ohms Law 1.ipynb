{
  "cells": [
    {
      "metadata": {
        "trusted": true
      },
      "cell_type": "code",
      "source": "R1 = float(input(\"What is the resistance of resistor 1? \"))\nR2 = float(input(\"What is the resistance of resistor 2? \"))\nV = float(input(\"What is the voltage? \"))\n    \nR = R1 + R2\n\nI = V/R\n\nprint(\"If resistor 1 and resistor 2 were in parralel with a voltage of\", V,\", the current would be\", I, \"\")",
      "execution_count": 10,
      "outputs": [
        {
          "output_type": "stream",
          "name": "stdout",
          "text": "What is the resistance of resistor 1? 4\nWhat is the resistance of resistor 2? 6\nWhat is the voltage? 5\nIf resistor 1 and resistor 2 were in parralel with a voltage of 5.0 , the current would be 0.5 \n"
        }
      ]
    },
    {
      "metadata": {
        "trusted": true
      },
      "cell_type": "code",
      "source": "R1 = float(input(\"What is the resistance of resistor 1? \"))\nR2 = float(input(\"What is the resistance of resistor 2? \"))\nV = float(input(\"What is the voltage? \"))\n    \nR = 1/(1/R1 + 1/R2)\n\nI = V/R\n\nprint(\"If resistor 1 and resistor 2 were in parralel with a voltage of\", V,\" the current would be\", I, \"\")",
      "execution_count": 16,
      "outputs": [
        {
          "output_type": "stream",
          "name": "stdout",
          "text": "What is the resistance of resistor 1? 4\nWhat is the resistance of resistor 2? 6\nWhat is the voltage? 5\nIf resistor 1 and resistor 2 were in parralel with a voltage of 5.0  the current would be 2.083333333333333 \n"
        }
      ]
    },
    {
      "metadata": {
        "trusted": true
      },
      "cell_type": "code",
      "source": "",
      "execution_count": null,
      "outputs": []
    }
  ],
  "metadata": {
    "kernelspec": {
      "name": "python36",
      "display_name": "Python 3.6",
      "language": "python"
    },
    "language_info": {
      "mimetype": "text/x-python",
      "nbconvert_exporter": "python",
      "name": "python",
      "pygments_lexer": "ipython3",
      "version": "3.6.6",
      "file_extension": ".py",
      "codemirror_mode": {
        "version": 3,
        "name": "ipython"
      }
    }
  },
  "nbformat": 4,
  "nbformat_minor": 2
}
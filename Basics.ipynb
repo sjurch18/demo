{
  "cells": [
    {
      "metadata": {
        "trusted": true
      },
      "cell_type": "code",
      "source": "x = range(5, 35, 2)\nfor n in x:\n    print(n)",
      "execution_count": 7,
      "outputs": [
        {
          "output_type": "stream",
          "text": "5\n7\n9\n11\n13\n15\n17\n19\n21\n23\n25\n27\n29\n31\n33\n",
          "name": "stdout"
        }
      ]
    },
    {
      "metadata": {
        "trusted": true
      },
      "cell_type": "code",
      "source": "C = range(0, 6)\nfor n in C:\n    F = 9/5*n + 32\n    print(int(F))\n",
      "execution_count": 11,
      "outputs": [
        {
          "output_type": "stream",
          "text": "32\n33\n35\n37\n39\n41\n",
          "name": "stdout"
        }
      ]
    },
    {
      "metadata": {
        "trusted": true,
        "scrolled": false
      },
      "cell_type": "code",
      "source": "W = (input(\"Enter a word: \"))\nprint('Word is: ', W,)\nprint('In hex: ', end=\" \")\nfor c in W:\n    print(hex(ord(c)), end=\" \")\nprint()\nprint('In Binary:', end=\" \")\nfor c in W:\n    print(bin(ord(c)), end=\" \")",
      "execution_count": 44,
      "outputs": [
        {
          "output_type": "stream",
          "name": "stdout",
          "text": "Enter a word: Abc\nWord is:  Abc\nIn hex:  0x41 0x62 0x63 \nIn Binary: 0b1000001 0b1100010 0b1100011 "
        }
      ]
    },
    {
      "metadata": {
        "trusted": true
      },
      "cell_type": "code",
      "source": "",
      "execution_count": null,
      "outputs": []
    }
  ],
  "metadata": {
    "kernelspec": {
      "name": "python36",
      "display_name": "Python 3.6",
      "language": "python"
    },
    "language_info": {
      "mimetype": "text/x-python",
      "nbconvert_exporter": "python",
      "name": "python",
      "pygments_lexer": "ipython3",
      "version": "3.6.6",
      "file_extension": ".py",
      "codemirror_mode": {
        "version": 3,
        "name": "ipython"
      }
    }
  },
  "nbformat": 4,
  "nbformat_minor": 2
}
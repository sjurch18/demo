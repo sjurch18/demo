{
 "cells": [
  {
   "cell_type": "code",
   "execution_count": 9,
   "metadata": {},
   "outputs": [
    {
     "name": "stdout",
     "output_type": "stream",
     "text": [
      "o\n"
     ]
    }
   ],
   "source": [
    "car = \"Honda\"; print(car[1])"
   ]
  },
  {
   "cell_type": "code",
   "execution_count": 10,
   "metadata": {},
   "outputs": [
    {
     "data": {
      "text/plain": [
       "' '"
      ]
     },
     "execution_count": 10,
     "metadata": {},
     "output_type": "execute_result"
    }
   ],
   "source": [
    "x = 'I \"Made\" This'\n",
    "x[1]"
   ]
  },
  {
   "cell_type": "code",
   "execution_count": 13,
   "metadata": {},
   "outputs": [
    {
     "data": {
      "text/plain": [
       "'o'"
      ]
     },
     "execution_count": 13,
     "metadata": {},
     "output_type": "execute_result"
    }
   ],
   "source": [
    "car = \"Honda\"\n",
    "car[1]"
   ]
  },
  {
   "cell_type": "code",
   "execution_count": 17,
   "metadata": {},
   "outputs": [
    {
     "data": {
      "text/plain": [
       "'\\nI ride my bicycle\\n    to work.\\n'"
      ]
     },
     "execution_count": 17,
     "metadata": {},
     "output_type": "execute_result"
    }
   ],
   "source": [
    "x = \"\"\"\n",
    "I ride my bicycle\n",
    "    to work.\n",
    "\"\"\"\n",
    "x"
   ]
  },
  {
   "cell_type": "code",
   "execution_count": 18,
   "metadata": {},
   "outputs": [
    {
     "name": "stdout",
     "output_type": "stream",
     "text": [
      "This is a \\n raw string\n",
      "This is not a \n",
      " raw string\n"
     ]
    }
   ],
   "source": [
    "#the \\n should be a literal \"\\n\" instad of a new line\n",
    "print (r\"This is a \\n raw string\")\n",
    "\n",
    "#the \\n should be a new line\n",
    "print (\"This is not a \\n raw string\")"
   ]
  },
  {
   "cell_type": "code",
   "execution_count": 23,
   "metadata": {},
   "outputs": [
    {
     "name": "stdout",
     "output_type": "stream",
     "text": [
      "We're taking CS120 at Clark college.\n"
     ]
    }
   ],
   "source": [
    "college = \"Clark\"\n",
    "course = \"CS120\"\n",
    "\n",
    "print(f\"We're taking {course} at {college} college.\")"
   ]
  },
  {
   "cell_type": "code",
   "execution_count": 24,
   "metadata": {},
   "outputs": [
    {
     "name": "stdout",
     "output_type": "stream",
     "text": [
      "Hello - World : 3.141592653589793, 3.142\n"
     ]
    }
   ],
   "source": [
    "from math import pi\n",
    "s1 = \"Hello\"; s2 = \"World\"\n",
    "\n",
    "#More readable; faster for Python\n",
    "print (f\"{s1} - {s2} : {pi}, {pi:.3f}\")"
   ]
  },
  {
   "cell_type": "code",
   "execution_count": 36,
   "metadata": {},
   "outputs": [
    {
     "name": "stdout",
     "output_type": "stream",
     "text": [
      "sin(1) is 0.841\n",
      "int: 97; hex: 61; oct: 141; bin: 1100001\n"
     ]
    }
   ],
   "source": [
    "from math import sin\n",
    "print(f\"sin(1) is {sin(1):.3f}\")\n",
    "\n",
    "value = 97\n",
    "print(f\"int: {value:d}; hex: {value:x}; oct: {value:o}; bin: {value:b}\")"
   ]
  },
  {
   "cell_type": "code",
   "execution_count": 40,
   "metadata": {},
   "outputs": [
    {
     "name": "stdout",
     "output_type": "stream",
     "text": [
      "The number is 0.00\n",
      "The number is 0.84\n",
      "The number is 0.91\n",
      "The number is 0.14\n",
      "The number is -0.76\n",
      "The number is -0.96\n",
      "The number is -0.28\n",
      "The number is 0.66\n",
      "The number is 0.99\n",
      "The number is 0.41\n"
     ]
    }
   ],
   "source": [
    "def foo(x):\n",
    "#    print(\"--- called with\", x)\n",
    "    return sin(x)\n",
    "\n",
    "for i in range(10):\n",
    "    print(f\"The number is {foo(i):.2f}\")"
   ]
  },
  {
   "cell_type": "code",
   "execution_count": 41,
   "metadata": {},
   "outputs": [
    {
     "name": "stdout",
     "output_type": "stream",
     "text": [
      "---\n",
      "---------\n"
     ]
    }
   ],
   "source": [
    "print(\"-\" * 3)\n",
    "\n",
    "print(\"---\" * 3)"
   ]
  },
  {
   "cell_type": "code",
   "execution_count": 42,
   "metadata": {},
   "outputs": [
    {
     "data": {
      "text/plain": [
       "['A', 'B', 'C']"
      ]
     },
     "execution_count": 42,
     "metadata": {},
     "output_type": "execute_result"
    }
   ],
   "source": [
    "\"A|B|C\".split(\"|\")"
   ]
  },
  {
   "cell_type": "code",
   "execution_count": 46,
   "metadata": {},
   "outputs": [
    {
     "data": {
      "text/plain": [
       "'ABC'"
      ]
     },
     "execution_count": 46,
     "metadata": {},
     "output_type": "execute_result"
    }
   ],
   "source": [
    "\" | \".join([\"A\", \"B\", \"C\"])\n",
    "\"\".join([\"A\", \"B\", \"C\"])"
   ]
  },
  {
   "cell_type": "code",
   "execution_count": 47,
   "metadata": {},
   "outputs": [],
   "source": [
    "# x = \"A|B|C\"\n",
    "# x.split(\"|\")"
   ]
  },
  {
   "cell_type": "code",
   "execution_count": 50,
   "metadata": {},
   "outputs": [
    {
     "name": "stdout",
     "output_type": "stream",
     "text": [
      "Found!\n"
     ]
    }
   ],
   "source": [
    "# simple string\n",
    "name = \"Clark\"\n",
    "\n",
    "# Correct way\n",
    "if name.find(\"A\") > -1: print (\"Found!\")\n",
    "    \n",
    "# Common mistake\n",
    "if name.find(\"A\"): print (\"Found!\")\n",
    "    \n",
    "# Pythonic way\n",
    "if \"A\" in name: print (\"Found!\")"
   ]
  },
  {
   "cell_type": "code",
   "execution_count": 51,
   "metadata": {},
   "outputs": [
    {
     "name": "stdout",
     "output_type": "stream",
     "text": [
      "     White Spaces.    \n",
      "White Spaces.\n"
     ]
    }
   ],
   "source": [
    "#\n",
    "s = \"     White Spaces.    \"\n",
    "\n",
    "# strip leading/trailing white spaces on immutable object\n",
    "s.strip()\n",
    "print(s)    # note: s was never assigned the new value\n",
    "\n",
    "# correct way\n",
    "s = s.strip()\n",
    "print(s)"
   ]
  },
  {
   "cell_type": "code",
   "execution_count": 53,
   "metadata": {},
   "outputs": [
    {
     "name": "stdout",
     "output_type": "stream",
     "text": [
      "1. a is %d\n"
     ]
    },
    {
     "ename": "TypeError",
     "evalue": "unsupported operand type(s) for %: 'NoneType' and 'int'",
     "output_type": "error",
     "traceback": [
      "\u001b[0;31m---------------------------------------------------------------------------\u001b[0m",
      "\u001b[0;31mTypeError\u001b[0m                                 Traceback (most recent call last)",
      "\u001b[0;32m<ipython-input-53-6a036475f345>\u001b[0m in \u001b[0;36m<module>\u001b[0;34m\u001b[0m\n\u001b[1;32m      2\u001b[0m \u001b[0ma\u001b[0m \u001b[0;34m=\u001b[0m \u001b[0;36m11\u001b[0m\u001b[0;34m;\u001b[0m \u001b[0mb\u001b[0m \u001b[0;34m=\u001b[0m \u001b[0;36m12.34567\u001b[0m\u001b[0;34m;\u001b[0m \u001b[0mc\u001b[0m \u001b[0;34m=\u001b[0m \u001b[0;34m\"Hello World!\"\u001b[0m\u001b[0;34m\u001b[0m\u001b[0m\n\u001b[1;32m      3\u001b[0m \u001b[0;34m\u001b[0m\u001b[0m\n\u001b[0;32m----> 4\u001b[0;31m \u001b[0mprint\u001b[0m\u001b[0;34m(\u001b[0m\u001b[0;34m\"1. a is %d\"\u001b[0m\u001b[0;34m)\u001b[0m \u001b[0;34m%\u001b[0m \u001b[0ma\u001b[0m    \u001b[0;31m# simple integer\u001b[0m\u001b[0;34m\u001b[0m\u001b[0m\n\u001b[0m\u001b[1;32m      5\u001b[0m \u001b[0mprint\u001b[0m\u001b[0;34m(\u001b[0m\u001b[0;34m\"2. %10d %f %s\"\u001b[0m\u001b[0;34m)\u001b[0m \u001b[0;34m%\u001b[0m \u001b[0;34m(\u001b[0m\u001b[0ma\u001b[0m\u001b[0;34m,\u001b[0m \u001b[0mb\u001b[0m\u001b[0;34m,\u001b[0m \u001b[0mc\u001b[0m\u001b[0;34m)\u001b[0m \u001b[0;31m# 10 padded spaces\u001b[0m\u001b[0;34m\u001b[0m\u001b[0m\n\u001b[1;32m      6\u001b[0m \u001b[0mprint\u001b[0m\u001b[0;34m(\u001b[0m\u001b[0;34m\"3. %010d %E\"\u001b[0m\u001b[0;34m)\u001b[0m \u001b[0;34m%\u001b[0m \u001b[0;34m(\u001b[0m\u001b[0ma\u001b[0m\u001b[0;34m,\u001b[0m \u001b[0mb\u001b[0m\u001b[0;34m)\u001b[0m\u001b[0;34m\u001b[0m\u001b[0m\n",
      "\u001b[0;31mTypeError\u001b[0m: unsupported operand type(s) for %: 'NoneType' and 'int'"
     ]
    }
   ],
   "source": [
    "#\n",
    "a = 11; b = 12.34567; c = \"Hello World!\"\n",
    "\n",
    "print(\"1. a is %d\") % a    # simple integer\n",
    "print(\"2. %10d %f %s\") % (a, b, c) # 10 padded spaces\n",
    "print(\"3. %010d %E\") % (a, b)"
   ]
  },
  {
   "cell_type": "code",
   "execution_count": 54,
   "metadata": {},
   "outputs": [
    {
     "ename": "SyntaxError",
     "evalue": "invalid syntax (<ipython-input-54-dd988bc4ffd1>, line 3)",
     "output_type": "error",
     "traceback": [
      "\u001b[0;36m  File \u001b[0;32m\"<ipython-input-54-dd988bc4ffd1>\"\u001b[0;36m, line \u001b[0;32m3\u001b[0m\n\u001b[0;31m    [\"Clark\", 123, (1,3), [5,5], what ever object...]\u001b[0m\n\u001b[0m                                         ^\u001b[0m\n\u001b[0;31mSyntaxError\u001b[0m\u001b[0;31m:\u001b[0m invalid syntax\n"
     ]
    }
   ],
   "source": [
    "# examples of lists\n",
    "[] # empty list\n",
    "[\"Clark\", 123, (1,3), [5,5], what ever object...]"
   ]
  },
  {
   "cell_type": "code",
   "execution_count": 55,
   "metadata": {},
   "outputs": [
    {
     "data": {
      "text/plain": [
       "list"
      ]
     },
     "execution_count": 55,
     "metadata": {},
     "output_type": "execute_result"
    }
   ],
   "source": [
    "type([1])"
   ]
  },
  {
   "cell_type": "code",
   "execution_count": 56,
   "metadata": {},
   "outputs": [
    {
     "data": {
      "application/vnd.jupyter.widget-view+json": {
       "model_id": "9f6d72c2c4e148758af68b9a0f0f795e",
       "version_major": 2,
       "version_minor": 0
      },
      "text/plain": [
       "interactive(children=(Dropdown(description='x', options=(1, 2, 3, 4, 5, 6), value=1), Output()), _dom_classes=…"
      ]
     },
     "metadata": {},
     "output_type": "display_data"
    }
   ],
   "source": [
    "from ipywidgets import interact\n",
    "\n",
    "@interact\n",
    "def led(x = [1, 2, 3, 4, 5, 6]):\n",
    "    r = x%2\n",
    "    msg = \"OFF\" if r else \"ON\"\n",
    "    print(\"Led\", msg, \"- x:\", x)"
   ]
  },
  {
   "cell_type": "code",
   "execution_count": 58,
   "metadata": {},
   "outputs": [
    {
     "name": "stdout",
     "output_type": "stream",
     "text": [
      "List: ['A', 'B']\n",
      "New List: ['B']\n"
     ]
    }
   ],
   "source": [
    "lst = []         #create a new list\n",
    "lst.append(\"A\")  #add item\n",
    "lst.append(\"B\")\n",
    "print(\"List:\", lst)\n",
    "del lst[0]\n",
    "print(\"New List:\", lst)"
   ]
  },
  {
   "cell_type": "code",
   "execution_count": 59,
   "metadata": {},
   "outputs": [
    {
     "name": "stdout",
     "output_type": "stream",
     "text": [
      "['a', 'b', 'c', 'D'] ['a', 'b', 'c', 'D']\n"
     ]
    }
   ],
   "source": [
    "lst = [\"a\", \"b\", \"c\"]\n",
    "newL = lst\n",
    "\n",
    "newL.append(\"D\")\n",
    "\n",
    "print(lst, newL)"
   ]
  },
  {
   "cell_type": "code",
   "execution_count": 62,
   "metadata": {},
   "outputs": [
    {
     "name": "stdout",
     "output_type": "stream",
     "text": [
      "I found B!\n"
     ]
    }
   ],
   "source": [
    "myList = [\"A\", \"B\"]\n",
    "\n",
    "if \"B\" in myList: print(\"I found B!\")\n",
    "if \"B\" not in myList: print(\"B not found!\")"
   ]
  },
  {
   "cell_type": "code",
   "execution_count": 64,
   "metadata": {},
   "outputs": [
    {
     "data": {
      "text/plain": [
       "{'make': 'Honda', 'Color': 'Black', (12, 1): 'foo'}"
      ]
     },
     "execution_count": 64,
     "metadata": {},
     "output_type": "execute_result"
    }
   ],
   "source": [
    "car = {\"make\": \"Honda\", \"Color\": \"Black\", (12,1):\"foo\"}\n",
    "car"
   ]
  },
  {
   "cell_type": "code",
   "execution_count": 67,
   "metadata": {},
   "outputs": [
    {
     "data": {
      "text/plain": [
       "'Google'"
      ]
     },
     "execution_count": 67,
     "metadata": {},
     "output_type": "execute_result"
    }
   ],
   "source": [
    "d = {}\n",
    "d[1] = \"HP\"\n",
    "d[\"1\"] = \"HP 2\"\n",
    "\n",
    "d.setdefault(3, \"Google\")"
   ]
  },
  {
   "cell_type": "code",
   "execution_count": 69,
   "metadata": {},
   "outputs": [
    {
     "data": {
      "text/plain": [
       "'N/A'"
      ]
     },
     "execution_count": 69,
     "metadata": {},
     "output_type": "execute_result"
    }
   ],
   "source": [
    "car = {\"make\": \"Honda\", \"Color\": \"Black\", (12,1):\"foo\"}\n",
    "car[\"make\"]\n",
    "car.get(\"make\")\n",
    "car.get(\"size\", \"N/A\")"
   ]
  },
  {
   "cell_type": "code",
   "execution_count": null,
   "metadata": {},
   "outputs": [],
   "source": []
  }
 ],
 "metadata": {
  "kernelspec": {
   "display_name": "Python 3.6",
   "language": "python",
   "name": "python36"
  },
  "language_info": {
   "codemirror_mode": {
    "name": "ipython",
    "version": 3
   },
   "file_extension": ".py",
   "mimetype": "text/x-python",
   "name": "python",
   "nbconvert_exporter": "python",
   "pygments_lexer": "ipython3",
   "version": "3.6.6"
  }
 },
 "nbformat": 4,
 "nbformat_minor": 2
}
